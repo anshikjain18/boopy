{
 "cells": [
  {
   "cell_type": "code",
   "execution_count": 1,
   "metadata": {},
   "outputs": [],
   "source": [
    "import pandas as pd\n",
    "import numpy as np\n",
    "import matplotlib.pyplot as plt\n",
    "plt.rcParams['figure.dpi'] = 400 \n",
    "plt.rcParams[\"axes.grid\"] = True\n",
    "from functools import partial\n",
    "import yfinance as yf\n"
   ]
  },
  {
   "cell_type": "code",
   "execution_count": null,
   "metadata": {},
   "outputs": [],
   "source": []
  },
  {
   "cell_type": "code",
   "execution_count": 2,
   "metadata": {},
   "outputs": [
    {
     "ename": "TypeError",
     "evalue": "DepositHelper.__init__() missing 1 required positional argument: 'convention'",
     "output_type": "error",
     "traceback": [
      "\u001b[1;31m---------------------------------------------------------------------------\u001b[0m",
      "\u001b[1;31mTypeError\u001b[0m                                 Traceback (most recent call last)",
      "\u001b[1;32m~\\AppData\\Local\\Temp\\ipykernel_27668\\2686676246.py\u001b[0m in \u001b[0;36m<cell line: 8>\u001b[1;34m()\u001b[0m\n\u001b[0;32m      6\u001b[0m \u001b[1;32mfrom\u001b[0m \u001b[0mbootstrapy\u001b[0m\u001b[1;33m.\u001b[0m\u001b[0mhelpers\u001b[0m\u001b[1;33m.\u001b[0m\u001b[0mdeposit_helper\u001b[0m \u001b[1;32mimport\u001b[0m \u001b[0mDepositHelper\u001b[0m\u001b[1;33m\u001b[0m\u001b[1;33m\u001b[0m\u001b[0m\n\u001b[0;32m      7\u001b[0m \u001b[1;32mfrom\u001b[0m \u001b[0mbootstrapy\u001b[0m\u001b[1;33m.\u001b[0m\u001b[0mtime\u001b[0m\u001b[1;33m.\u001b[0m\u001b[0mdaycounters\u001b[0m\u001b[1;33m.\u001b[0m\u001b[0mdaycounters\u001b[0m \u001b[1;32mimport\u001b[0m \u001b[0mACT360\u001b[0m\u001b[1;33m,\u001b[0m \u001b[0mACT365\u001b[0m\u001b[1;33m\u001b[0m\u001b[1;33m\u001b[0m\u001b[0m\n\u001b[1;32m----> 8\u001b[1;33m \u001b[0mdeposit1\u001b[0m\u001b[1;33m=\u001b[0m \u001b[0mDepositHelper\u001b[0m\u001b[1;33m(\u001b[0m\u001b[1;34m\"3D\"\u001b[0m\u001b[1;33m,\u001b[0m \u001b[1;36m2\u001b[0m\u001b[1;33m,\u001b[0m \u001b[0mACT360\u001b[0m\u001b[1;33m,\u001b[0m \u001b[1;36m0.02416\u001b[0m\u001b[1;33m)\u001b[0m\u001b[1;33m\u001b[0m\u001b[1;33m\u001b[0m\u001b[0m\n\u001b[0m\u001b[0;32m      9\u001b[0m \u001b[0mdeposit2\u001b[0m\u001b[1;33m=\u001b[0m \u001b[0mDepositHelper\u001b[0m\u001b[1;33m(\u001b[0m\u001b[1;34m\"3M\"\u001b[0m\u001b[1;33m,\u001b[0m \u001b[1;36m2\u001b[0m\u001b[1;33m,\u001b[0m \u001b[0mACT360\u001b[0m\u001b[1;33m,\u001b[0m \u001b[1;36m0.02701\u001b[0m\u001b[1;33m)\u001b[0m\u001b[1;33m\u001b[0m\u001b[1;33m\u001b[0m\u001b[0m\n\u001b[0;32m     10\u001b[0m \u001b[0mtemp\u001b[0m \u001b[1;33m=\u001b[0m \u001b[1;33m[\u001b[0m\u001b[0mdeposit1\u001b[0m\u001b[1;33m,\u001b[0m \u001b[0mdeposit2\u001b[0m\u001b[1;33m]\u001b[0m\u001b[1;33m\u001b[0m\u001b[1;33m\u001b[0m\u001b[0m\n",
      "\u001b[1;31mTypeError\u001b[0m: DepositHelper.__init__() missing 1 required positional argument: 'convention'"
     ]
    }
   ],
   "source": [
    "import bootstrapy.time.date.reference_date as reference_date_holder\n",
    "import datetime\n",
    "reference_date_holder.reference_date = datetime.date(2022,12,30)\n",
    "reference_date_holder.reference_date\n",
    "\n",
    "from bootstrapy.helpers.deposit_helper import DepositHelper\n",
    "from bootstrapy.time.daycounters.daycounters import ACT360, ACT365\n",
    "deposit1= DepositHelper(\"3D\", 2, ACT360, 0.02416, )\n",
    "deposit2= DepositHelper(\"3M\", 2, ACT360, 0.02701)\n",
    "temp = [deposit1, deposit2]\n",
    "from bootstrapy.bootstrap.bootstrap import Bootstrap\n",
    "test_bootstrap = Bootstrap(temp, ACT365)\n",
    "\n",
    "test_bootstrap.pillars\n",
    "\n",
    "\n",
    "s= test_bootstrap.calculate2()"
   ]
  },
  {
   "cell_type": "code",
   "execution_count": 22,
   "metadata": {},
   "outputs": [
    {
     "data": {
      "text/plain": [
       "[0.02449473362937065, 0.02449473362937065, 0.027174014776050748]"
      ]
     },
     "execution_count": 22,
     "metadata": {},
     "output_type": "execute_result"
    }
   ],
   "source": [
    "test_bootstrap.curve"
   ]
  },
  {
   "cell_type": "code",
   "execution_count": 16,
   "metadata": {},
   "outputs": [
    {
     "data": {
      "text/plain": [
       "[0, 0, 0]"
      ]
     },
     "execution_count": 16,
     "metadata": {},
     "output_type": "execute_result"
    }
   ],
   "source": [
    "3 * [0]"
   ]
  },
  {
   "cell_type": "code",
   "execution_count": 7,
   "metadata": {},
   "outputs": [
    {
     "data": {
      "text/plain": [
       "3"
      ]
     },
     "execution_count": 7,
     "metadata": {},
     "output_type": "execute_result"
    }
   ],
   "source": [
    "len([0,0,0])"
   ]
  }
 ],
 "metadata": {
  "kernelspec": {
   "display_name": "python_pg",
   "language": "python",
   "name": "python3"
  },
  "language_info": {
   "codemirror_mode": {
    "name": "ipython",
    "version": 3
   },
   "file_extension": ".py",
   "mimetype": "text/x-python",
   "name": "python",
   "nbconvert_exporter": "python",
   "pygments_lexer": "ipython3",
   "version": "3.10.4"
  },
  "orig_nbformat": 4
 },
 "nbformat": 4,
 "nbformat_minor": 2
}
