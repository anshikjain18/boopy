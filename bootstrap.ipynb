{
 "cells": [
  {
   "cell_type": "code",
   "execution_count": 1,
   "metadata": {},
   "outputs": [],
   "source": [
    "import pandas as pd\n",
    "import numpy as np\n",
    "import matplotlib.pyplot as plt\n",
    "plt.rcParams['figure.dpi'] = 400 \n",
    "plt.rcParams[\"axes.grid\"] = True\n",
    "from functools import partial\n",
    "import yfinance as yf\n"
   ]
  },
  {
   "cell_type": "code",
   "execution_count": 83,
   "metadata": {},
   "outputs": [
    {
     "name": "stdout",
     "output_type": "stream",
     "text": [
      "r = -1.0\n",
      "t = 0.010958904109589041\n",
      "r = -1.0\n",
      "t = 0.0136986301369863\n"
     ]
    },
    {
     "data": {
      "text/plain": [
       "-0.9849515051306179"
      ]
     },
     "execution_count": 83,
     "metadata": {},
     "output_type": "execute_result"
    }
   ],
   "source": [
    "import bootstrapy.time.date.reference_date as reference_date_holder\n",
    "import datetime\n",
    "reference_date_holder.reference_date = datetime.date(2022,12,30)\n",
    "reference_date_holder.reference_date\n",
    "\n",
    "from bootstrapy.helpers.deposit_helper import DepositHelper\n",
    "from bootstrapy.time.daycounters.daycounters import ACT360, ACT365\n",
    "deposit1= DepositHelper(\"3D\", 2, ACT360)\n",
    "deposit2= DepositHelper(\"3M\", 2, ACT360)\n",
    "temp = [deposit1, deposit2]\n",
    "from bootstrapy.bootstrap.bootstrap import Bootstrap\n",
    "test_bootstrap = Bootstrap(temp, ACT365)\n",
    "\n",
    "test_bootstrap.pillars\n",
    "\n",
    "\n",
    "test_bootstrap.calculate()"
   ]
  },
  {
   "cell_type": "code",
   "execution_count": null,
   "metadata": {},
   "outputs": [],
   "source": [
    "pf"
   ]
  }
 ],
 "metadata": {
  "kernelspec": {
   "display_name": "python_pg",
   "language": "python",
   "name": "python3"
  },
  "language_info": {
   "codemirror_mode": {
    "name": "ipython",
    "version": 3
   },
   "file_extension": ".py",
   "mimetype": "text/x-python",
   "name": "python",
   "nbconvert_exporter": "python",
   "pygments_lexer": "ipython3",
   "version": "3.10.4"
  },
  "orig_nbformat": 4
 },
 "nbformat": 4,
 "nbformat_minor": 2
}
