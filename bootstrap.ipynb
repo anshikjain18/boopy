{
 "cells": [
  {
   "cell_type": "code",
   "execution_count": 1,
   "metadata": {},
   "outputs": [],
   "source": [
    "import pandas as pd\n",
    "import numpy as np\n",
    "import matplotlib.pyplot as plt\n",
    "plt.rcParams['figure.dpi'] = 400 \n",
    "plt.rcParams[\"axes.grid\"] = True\n",
    "from functools import partial\n",
    "import yfinance as yf\n"
   ]
  },
  {
   "cell_type": "code",
   "execution_count": 21,
   "metadata": {},
   "outputs": [
    {
     "name": "stdout",
     "output_type": "stream",
     "text": [
      "segment = 1\n",
      "value_date = datetime.date(2023, 1, 3)\n",
      "maturity_date = datetime.date(2023, 1, 4)\n",
      "i = 1\n",
      "dx = 0.0136986301369863\n",
      "r = -1.0\n",
      "r = -1.0\n",
      "self._forecast_fixing(value_date, maturity_date, t) = -0.9849515051306179\n",
      "r = -1.0\n",
      "r = -1.0\n",
      "r = 1.0\n",
      "r = 1.0\n",
      "self._forecast_fixing(value_date, maturity_date, t) = 0.9876537023547982\n",
      "r = 1.0\n",
      "r = 1.0\n",
      "r = 0.023125662754368892\n",
      "r = 0.023125662754368892\n",
      "self._forecast_fixing(value_date, maturity_date, t) = 0.022809595430919316\n",
      "r = 0.023125662754368892\n",
      "r = 0.023125662754368892\n",
      "r = 0.02449290494299558\n",
      "r = 0.02449290494299558\n",
      "self._forecast_fixing(value_date, maturity_date, t) = 0.024158196242103358\n",
      "r = 0.02449290494299558\n",
      "r = 0.02449290494299558\n",
      "r = 0.024494733630370663\n",
      "r = 0.024494733630370663\n",
      "self._forecast_fixing(value_date, maturity_date, t) = 0.024160000000046367\n",
      "r = 0.024494733630370663\n",
      "r = 0.024494733630370663\n",
      "r = 0.02449473362937065\n",
      "r = 0.02449473362937065\n",
      "self._forecast_fixing(value_date, maturity_date, t) = 0.024159999999007198\n",
      "r = 0.02449473362937065\n",
      "r = 0.02449473362937065\n",
      "segment = 2\n",
      "value_date = datetime.date(2023, 1, 3)\n",
      "maturity_date = datetime.date(2023, 4, 3)\n",
      "i = 1\n",
      "dx = 0.0136986301369863\n",
      "r = 0.02449473362937065\n",
      "r = -1.0\n",
      "self._forecast_fixing(value_date, maturity_date, t) = -0.9090092236614984\n",
      "r = 0.02449473362937065\n",
      "r = -1.0\n",
      "r = 0.02449473362937065\n",
      "r = 1.0\n",
      "self._forecast_fixing(value_date, maturity_date, t) = 1.1735555129633752\n",
      "r = 0.02449473362937065\n",
      "r = 1.0\n",
      "r = 0.02449473362937065\n",
      "r = -0.10108991360483133\n",
      "self._forecast_fixing(value_date, maturity_date, t) = -0.10383860421043734\n",
      "r = 0.02449473362937065\n",
      "r = -0.10108991360483133\n",
      "r = 0.02449473362937065\n",
      "r = 0.030028539207723276\n",
      "self._forecast_fixing(value_date, maturity_date, t) = 0.029971495688688954\n",
      "r = 0.02449473362937065\n",
      "r = 0.030028539207723276\n",
      "r = 0.02449473362937065\n",
      "r = 0.027126615264727386\n",
      "self._forecast_fixing(value_date, maturity_date, t) = 0.026960842600321833\n",
      "r = 0.02449473362937065\n",
      "r = 0.027126615264727386\n",
      "r = 0.02449473362937065\n",
      "r = 0.027173997354564532\n",
      "self._forecast_fixing(value_date, maturity_date, t) = 0.027009981933336036\n",
      "r = 0.02449473362937065\n",
      "r = 0.027173997354564532\n",
      "r = 0.02449473362937065\n",
      "r = 0.027174014775050735\n",
      "self._forecast_fixing(value_date, maturity_date, t) = 0.027009999999999756\n",
      "r = 0.02449473362937065\n",
      "r = 0.027174014775050735\n",
      "r = 0.02449473362937065\n",
      "r = 0.027174014776050748\n",
      "self._forecast_fixing(value_date, maturity_date, t) = 0.02701000000103715\n",
      "r = 0.02449473362937065\n",
      "r = 0.027174014776050748\n"
     ]
    }
   ],
   "source": [
    "import bootstrapy.time.date.reference_date as reference_date_holder\n",
    "import datetime\n",
    "reference_date_holder.reference_date = datetime.date(2022,12,30)\n",
    "reference_date_holder.reference_date\n",
    "\n",
    "from bootstrapy.helpers.deposit_helper import DepositHelper\n",
    "from bootstrapy.time.daycounters.daycounters import ACT360, ACT365\n",
    "deposit1= DepositHelper(\"3D\", 2, ACT360, 0.02416)\n",
    "deposit2= DepositHelper(\"3M\", 2, ACT360, 0.02701)\n",
    "temp = [deposit1, deposit2]\n",
    "from bootstrapy.bootstrap.bootstrap import Bootstrap\n",
    "test_bootstrap = Bootstrap(temp, ACT365)\n",
    "\n",
    "test_bootstrap.pillars\n",
    "\n",
    "\n",
    "s= test_bootstrap.calculate2()"
   ]
  },
  {
   "cell_type": "code",
   "execution_count": 22,
   "metadata": {},
   "outputs": [
    {
     "data": {
      "text/plain": [
       "[0.02449473362937065, 0.02449473362937065, 0.027174014776050748]"
      ]
     },
     "execution_count": 22,
     "metadata": {},
     "output_type": "execute_result"
    }
   ],
   "source": [
    "test_bootstrap.curve"
   ]
  },
  {
   "cell_type": "code",
   "execution_count": 16,
   "metadata": {},
   "outputs": [
    {
     "data": {
      "text/plain": [
       "[0, 0, 0]"
      ]
     },
     "execution_count": 16,
     "metadata": {},
     "output_type": "execute_result"
    }
   ],
   "source": [
    "3 * [0]"
   ]
  },
  {
   "cell_type": "code",
   "execution_count": 7,
   "metadata": {},
   "outputs": [
    {
     "data": {
      "text/plain": [
       "3"
      ]
     },
     "execution_count": 7,
     "metadata": {},
     "output_type": "execute_result"
    }
   ],
   "source": [
    "len([0,0,0])"
   ]
  }
 ],
 "metadata": {
  "kernelspec": {
   "display_name": "python_pg",
   "language": "python",
   "name": "python3"
  },
  "language_info": {
   "codemirror_mode": {
    "name": "ipython",
    "version": 3
   },
   "file_extension": ".py",
   "mimetype": "text/x-python",
   "name": "python",
   "nbconvert_exporter": "python",
   "pygments_lexer": "ipython3",
   "version": "3.10.4"
  },
  "orig_nbformat": 4
 },
 "nbformat": 4,
 "nbformat_minor": 2
}
