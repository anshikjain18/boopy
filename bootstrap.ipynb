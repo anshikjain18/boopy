{
 "cells": [
  {
   "cell_type": "code",
   "execution_count": 1,
   "metadata": {},
   "outputs": [],
   "source": [
    "import pandas as pd\n",
    "import numpy as np\n",
    "import matplotlib.pyplot as plt\n",
    "plt.rcParams['figure.dpi'] = 400 \n",
    "plt.rcParams[\"axes.grid\"] = True\n",
    "from functools import partial\n",
    "import yfinance as yf\n"
   ]
  },
  {
   "cell_type": "code",
   "execution_count": 14,
   "metadata": {},
   "outputs": [],
   "source": [
    "import bootstrapy.time.date.reference_date as reference_date_holder\n",
    "import datetime\n",
    "reference_date_holder.reference_date = datetime.date(2022,12,30)\n",
    "reference_date_holder.reference_date\n",
    "\n",
    "from bootstrapy.helpers.deposit_helper import DepositHelper\n",
    "from bootstrapy.time.daycounters.daycounters import ACT360, ACT365\n",
    "deposit1= DepositHelper(\"3D\", 2, ACT360, 0.02416)\n",
    "deposit2= DepositHelper(\"3M\", 2, ACT360, 0.02701)\n",
    "temp = [deposit1, deposit2]\n",
    "from bootstrapy.bootstrap.bootstrap import Bootstrap\n",
    "test_bootstrap = Bootstrap(temp, ACT365)\n",
    "\n",
    "test_bootstrap.pillars\n",
    "\n",
    "\n",
    "s= test_bootstrap.calculate()"
   ]
  },
  {
   "cell_type": "code",
   "execution_count": 15,
   "metadata": {},
   "outputs": [
    {
     "ename": "AttributeError",
     "evalue": "'DepositHelper' object has no attribute 'quote'",
     "output_type": "error",
     "traceback": [
      "\u001b[1;31m---------------------------------------------------------------------------\u001b[0m",
      "\u001b[1;31mAttributeError\u001b[0m                            Traceback (most recent call last)",
      "\u001b[1;32m~\\AppData\\Local\\Temp\\ipykernel_19908\\834723247.py\u001b[0m in \u001b[0;36m<cell line: 1>\u001b[1;34m()\u001b[0m\n\u001b[1;32m----> 1\u001b[1;33m \u001b[0ms\u001b[0m\u001b[1;33m(\u001b[0m\u001b[0mr\u001b[0m \u001b[1;33m=\u001b[0m \u001b[1;36m2\u001b[0m\u001b[1;33m)\u001b[0m\u001b[1;33m\u001b[0m\u001b[1;33m\u001b[0m\u001b[0m\n\u001b[0m",
      "\u001b[1;32mc:\\Users\\kiarf\\Documents\\GitHub\\bootstrapy\\bootstrapy\\bootstrap\\bootstrap.py\u001b[0m in \u001b[0;36mbootstrap_error\u001b[1;34m(self, instrument, segment, r, value_date, maturity_date, t)\u001b[0m\n\u001b[0;32m    160\u001b[0m                             t : float):\n\u001b[0;32m    161\u001b[0m             \u001b[0mself\u001b[0m\u001b[1;33m.\u001b[0m\u001b[0mcurve\u001b[0m\u001b[1;33m[\u001b[0m\u001b[0msegment\u001b[0m\u001b[1;33m]\u001b[0m \u001b[1;33m=\u001b[0m \u001b[0mr\u001b[0m\u001b[1;33m\u001b[0m\u001b[1;33m\u001b[0m\u001b[0m\n\u001b[1;32m--> 162\u001b[1;33m             \u001b[1;32mreturn\u001b[0m \u001b[0minstrument\u001b[0m\u001b[1;33m.\u001b[0m\u001b[0mquote\u001b[0m \u001b[1;33m-\u001b[0m \u001b[0mself\u001b[0m\u001b[1;33m.\u001b[0m\u001b[0m_forecast_fixing\u001b[0m\u001b[1;33m(\u001b[0m\u001b[0mvalue_date\u001b[0m\u001b[1;33m,\u001b[0m \u001b[0mmaturity_date\u001b[0m\u001b[1;33m,\u001b[0m \u001b[0mt\u001b[0m\u001b[1;33m)\u001b[0m\u001b[1;33m\u001b[0m\u001b[1;33m\u001b[0m\u001b[0m\n\u001b[0m\u001b[0;32m    163\u001b[0m     \u001b[1;32mdef\u001b[0m \u001b[0mcalculate\u001b[0m\u001b[1;33m(\u001b[0m\u001b[0mself\u001b[0m\u001b[1;33m)\u001b[0m\u001b[1;33m:\u001b[0m\u001b[1;33m\u001b[0m\u001b[1;33m\u001b[0m\u001b[0m\n\u001b[0;32m    164\u001b[0m         \"\"\"\n",
      "\u001b[1;31mAttributeError\u001b[0m: 'DepositHelper' object has no attribute 'quote'"
     ]
    }
   ],
   "source": [
    "s(r = 2)"
   ]
  }
 ],
 "metadata": {
  "kernelspec": {
   "display_name": "python_pg",
   "language": "python",
   "name": "python3"
  },
  "language_info": {
   "codemirror_mode": {
    "name": "ipython",
    "version": 3
   },
   "file_extension": ".py",
   "mimetype": "text/x-python",
   "name": "python",
   "nbconvert_exporter": "python",
   "pygments_lexer": "ipython3",
   "version": "3.10.4"
  },
  "orig_nbformat": 4
 },
 "nbformat": 4,
 "nbformat_minor": 2
}
