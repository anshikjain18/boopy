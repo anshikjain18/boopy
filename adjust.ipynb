{
 "cells": [
  {
   "cell_type": "code",
   "execution_count": 66,
   "metadata": {},
   "outputs": [],
   "source": [
    "import pandas as pd\n",
    "import numpy as np\n",
    "import matplotlib.pyplot as plt\n",
    "plt.rcParams['figure.dpi'] = 400 \n",
    "plt.rcParams[\"axes.grid\"] = True\n",
    "import yfinance as yf\n",
    "import datetime\n",
    "from dateutil.relativedelta import relativedelta"
   ]
  },
  {
   "cell_type": "code",
   "execution_count": 2,
   "metadata": {},
   "outputs": [],
   "source": [
    "from bootstrapy.time.calendars.calendar import adjust"
   ]
  },
  {
   "cell_type": "code",
   "execution_count": 4,
   "metadata": {},
   "outputs": [
    {
     "data": {
      "text/plain": [
       "datetime.date(2023, 1, 6)"
      ]
     },
     "execution_count": 4,
     "metadata": {},
     "output_type": "execute_result"
    }
   ],
   "source": [
    "adjust(datetime.date(2023,1,2), \"ModifiedFollowing\")"
   ]
  },
  {
   "cell_type": "code",
   "execution_count": 71,
   "metadata": {},
   "outputs": [],
   "source": [
    "import bootstrapy.time.date.reference_date as reference_date_holder\n",
    "import datetime\n",
    "reference_date_holder.reference_date = datetime.date(2022,12,30)\n",
    "reference_date_holder.reference_date\n",
    "\n",
    "from bootstrapy.helpers.deposit_helper import DepositHelper\n",
    "from bootstrapy.time.daycounters.daycounters import ACT360, ACT365\n",
    "deposit1= DepositHelper(\"1D\", 2, ACT360, 0.02416, \"ModifiedFollowing\")\n"
   ]
  },
  {
   "cell_type": "code",
   "execution_count": 79,
   "metadata": {},
   "outputs": [
    {
     "name": "stdout",
     "output_type": "stream",
     "text": [
      "deposit1.reference_date = datetime.date(2022, 12, 31)\n",
      "deposit1.earliest_date = datetime.date(2023, 1, 3)\n",
      "deposit1.fixing_date = datetime.date(2022, 12, 30)\n",
      "deposit1.maturity_date = datetime.date(2023, 1, 4)\n",
      "deposit1.pillar_date = datetime.date(2023, 1, 4)\n",
      "deposit1.value_date = datetime.date(2023, 1, 3)\n"
     ]
    }
   ],
   "source": [
    "print(f'{deposit1.reference_date = }')\n",
    "print(f'{deposit1.earliest_date = }')\n",
    "print(f'{deposit1.fixing_date = }')\n",
    "print(f'{deposit1.maturity_date = }')\n",
    "print(f'{deposit1.pillar_date = }')\n",
    "print(f'{deposit1.value_date = }')"
   ]
  },
  {
   "cell_type": "code",
   "execution_count": 83,
   "metadata": {},
   "outputs": [
    {
     "name": "stdout",
     "output_type": "stream",
     "text": [
      "deposit2.reference_date = datetime.date(2022, 12, 30)\n",
      "deposit2.earliest_date = datetime.date(2023, 1, 3)\n",
      "deposit2.fixing_date = datetime.date(2022, 12, 30)\n",
      "deposit2.maturity_date = datetime.date(2023, 4, 3)\n",
      "deposit2.pillar_date = datetime.date(2023, 4, 3)\n",
      "deposit2.value_date = datetime.date(2023, 1, 3)\n",
      "deposit2.maturity_days = 94\n"
     ]
    }
   ],
   "source": [
    "deposit2= DepositHelper(\"3M\", 2, ACT360, 0.02701, \"ModifiedFollowing\")\n",
    "\n",
    "print(f'{deposit2.reference_date = }')\n",
    "print(f'{deposit2.earliest_date = }')\n",
    "print(f'{deposit2.fixing_date = }')\n",
    "print(f'{deposit2.maturity_date = }')\n",
    "print(f'{deposit2.pillar_date = }')\n",
    "print(f'{deposit2.value_date = }')\n",
    "print(f'{deposit2.maturity_days = }')"
   ]
  },
  {
   "cell_type": "code",
   "execution_count": 85,
   "metadata": {},
   "outputs": [
    {
     "name": "stdout",
     "output_type": "stream",
     "text": [
      "segment = 1\n",
      "value_date = datetime.date(2023, 1, 3)\n",
      "maturity_date = datetime.date(2023, 1, 4)\n",
      "segment = 2\n",
      "value_date = datetime.date(2023, 1, 3)\n",
      "maturity_date = datetime.date(2023, 4, 3)\n",
      "self.curve = [0.02449473362937065, 0.02449473362937065, 0.027174014776050748]\n"
     ]
    }
   ],
   "source": [
    "\n",
    "temp = [deposit1, deposit2]\n",
    "from bootstrapy.bootstrap.bootstrap import Bootstrap\n",
    "test_bootstrap = Bootstrap(temp, ACT365)\n",
    "\n",
    "test_bootstrap.pillars\n",
    "\n",
    "\n",
    "s= test_bootstrap.calculate()"
   ]
  }
 ],
 "metadata": {
  "kernelspec": {
   "display_name": "python_pg",
   "language": "python",
   "name": "python3"
  },
  "language_info": {
   "codemirror_mode": {
    "name": "ipython",
    "version": 3
   },
   "file_extension": ".py",
   "mimetype": "text/x-python",
   "name": "python",
   "nbconvert_exporter": "python",
   "pygments_lexer": "ipython3",
   "version": "3.10.4"
  },
  "orig_nbformat": 4
 },
 "nbformat": 4,
 "nbformat_minor": 2
}
