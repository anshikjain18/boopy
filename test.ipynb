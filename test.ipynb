{
 "cells": [
  {
   "cell_type": "code",
   "execution_count": 1,
   "metadata": {},
   "outputs": [],
   "source": [
    "import pandas as pd\n",
    "import numpy as np\n",
    "import matplotlib.pyplot as plt\n",
    "plt.rcParams['figure.dpi'] = 400 \n",
    "\n",
    "plt.rcParams[\"axes.grid\"] = True\n",
    "import yfinance as yf\n"
   ]
  },
  {
   "cell_type": "code",
   "execution_count": 1,
   "metadata": {},
   "outputs": [],
   "source": [
    "from datetime import date\n",
    "import dateutil as"
   ]
  },
  {
   "cell_type": "code",
   "execution_count": 2,
   "metadata": {},
   "outputs": [
    {
     "ename": "AttributeError",
     "evalue": "module 'dateutil' has no attribute 'easter'",
     "output_type": "error",
     "traceback": [
      "\u001b[1;31m---------------------------------------------------------------------------\u001b[0m",
      "\u001b[1;31mAttributeError\u001b[0m                            Traceback (most recent call last)",
      "\u001b[1;32m~\\AppData\\Local\\Temp\\ipykernel_26680\\113029249.py\u001b[0m in \u001b[0;36m<cell line: 1>\u001b[1;34m()\u001b[0m\n\u001b[1;32m----> 1\u001b[1;33m \u001b[0mdateutil\u001b[0m\u001b[1;33m.\u001b[0m\u001b[0measter\u001b[0m\u001b[1;33m.\u001b[0m\u001b[0measter\u001b[0m\u001b[1;33m(\u001b[0m\u001b[1;36m2023\u001b[0m\u001b[1;33m,\u001b[0m \u001b[1;36m3\u001b[0m\u001b[1;33m)\u001b[0m\u001b[1;33m\u001b[0m\u001b[1;33m\u001b[0m\u001b[0m\n\u001b[0m",
      "\u001b[1;31mAttributeError\u001b[0m: module 'dateutil' has no attribute 'easter'"
     ]
    }
   ],
   "source": [
    "dateutil.easter.easter(2023, 3) "
   ]
  },
  {
   "cell_type": "code",
   "execution_count": 74,
   "metadata": {},
   "outputs": [
    {
     "name": "stdout",
     "output_type": "stream",
     "text": [
      "2023-04-02\n",
      "2023-04-01\n",
      "2023-04-03\n",
      "2023-04-04\n",
      "2023-04-05\n",
      "2023-04-06\n",
      "2023-04-07\n"
     ]
    }
   ],
   "source": [
    "def is_weekend(arg_date : date) -> bool:\n",
    "    \"\"\"\n",
    "    Returns true if date such as date(2023,1,2) is a weekend else false\n",
    "\n",
    "    arg_date : date\n",
    "        is a date object such as date(2023,1,2)\n",
    "    \"\"\"\n",
    "    if arg_date.weekday() < 5:\n",
    "        return False\n",
    "    else:\n",
    "        return True\n",
    "\n",
    "\n",
    "assert is_weekend(date(2023,4,2)) == True\n",
    "assert is_weekend(date(2023,4,1)) == True\n",
    "assert is_weekend(date(2023,4,3)) == False\n",
    "assert is_weekend(date(2023,4,4)) == False\n",
    "assert is_weekend(date(2023,4,5)) == False\n",
    "assert is_weekend(date(2023,4,6)) == False\n",
    "assert is_weekend(date(2023,4,7)) == False"
   ]
  },
  {
   "cell_type": "code",
   "execution_count": 68,
   "metadata": {},
   "outputs": [],
   "source": [
    "def calc_day_of_year(arg_date : date) -> int:\n",
    "    return (arg_date- date(arg_date.year, 1, 1)).days + 1\n",
    "\n",
    "assert calc_day_of_year(date(2023,2,2)) == 33\n",
    "assert calc_day_of_year(date(2023,1,1)) == 1\n",
    "assert calc_day_of_year(date(2023,1,2)) == 2\n",
    "assert calc_day_of_year(date(2023,1,5)) == 5"
   ]
  },
  {
   "cell_type": "code",
   "execution_count": null,
   "metadata": {},
   "outputs": [],
   "source": [
    "calc_day_of_year()"
   ]
  },
  {
   "cell_type": "code",
   "execution_count": 71,
   "metadata": {},
   "outputs": [
    {
     "name": "stdout",
     "output_type": "stream",
     "text": [
      "weekday = 5\n",
      "day_of_month = 22\n",
      "day_of_year = 112\n",
      "month = 4\n",
      "year = 2023\n",
      "easter_monday = 100\n"
     ]
    }
   ],
   "source": [
    "arg_date = date(2023,4,22)\n",
    "weekday = arg_date.weekday()\n",
    "print(f'{weekday = }')\n",
    "day_of_month = arg_date.day \n",
    "print(f'{day_of_month = }')\n",
    "day_of_year = (arg_date- date(arg_date.year, 1, 1)).days + 1\n",
    "print(f'{day_of_year = }')\n",
    "month = arg_date.month\n",
    "print(f'{month = }')\n",
    "year = arg_date.year\n",
    "print(f'{year = }')\n",
    "easter_monday = calc_day_of_year(dateutil.easter.easter(year,3) + datetime.timedelta(1))\n",
    "print(f'{easter_monday = }')"
   ]
  },
  {
   "cell_type": "code",
   "execution_count": 62,
   "metadata": {},
   "outputs": [
    {
     "data": {
      "text/plain": [
       "datetime.date(2023, 4, 10)"
      ]
     },
     "execution_count": 62,
     "metadata": {},
     "output_type": "execute_result"
    }
   ],
   "source": [
    "easter_monday"
   ]
  },
  {
   "cell_type": "code",
   "execution_count": 88,
   "metadata": {},
   "outputs": [
    {
     "name": "stdout",
     "output_type": "stream",
     "text": [
      "date(2023,1,6).day = 6\n",
      "date(2023,1,6).month= 1\n"
     ]
    }
   ],
   "source": [
    "print(f'{date(2023,1,6).day = }')\n",
    "\n",
    "print(f'{date(2023,1,6).month= }')"
   ]
  },
  {
   "cell_type": "code",
   "execution_count": 129,
   "metadata": {},
   "outputs": [
    {
     "name": "stdout",
     "output_type": "stream",
     "text": [
      "2023-01-06\n",
      "2023-04-02\n",
      "2023-04-01\n",
      "2023-04-03\n",
      "2023-04-07\n",
      "2023-04-10\n",
      "2023-05-18\n",
      "2023-05-18\n",
      "2023-01-01\n",
      "2023-01-06\n",
      "2023-06-06\n",
      "2023-06-24\n",
      "2023-12-24\n",
      "2023-12-25\n",
      "2023-12-26\n",
      "2023-12-31\n"
     ]
    }
   ],
   "source": [
    "def is_business_day(arg_date : date) -> bool:\n",
    "    weekday = arg_date.weekday()\n",
    "    day_of_month = arg_date.day \n",
    "    day_of_year = (arg_date- date(arg_date.year, 1, 1)).days + 1\n",
    "    month = arg_date.month\n",
    "    year = arg_date.year\n",
    "    easter_monday = calc_day_of_year(dateutil.easter.easter(year,3) + datetime.timedelta(1))\n",
    "    if (is_weekend(arg_date)\n",
    "        # Good Friday\n",
    "        | (day_of_year == easter_monday -3)\n",
    "        # Easter Monday\n",
    "        | (day_of_year == easter_monday) \n",
    "        # Ascension Thursday\n",
    "        | (day_of_year == easter_monday+38)\n",
    "        # Whit Monday (till 2004)\n",
    "        | ((day_of_year == easter_monday + 49) & (year < 2005))\n",
    "        # New Year's Day\n",
    "        | ((day_of_month == 1) & (month == 1))\n",
    "        # Epiphany\n",
    "        | ((day_of_month == 6) & (month == 1))\n",
    "        # May Day\n",
    "        | ((day_of_month == 1) & (month == 5))\n",
    "        # National Day\n",
    "        # Only a holiday since 2005\n",
    "        | ((day_of_month == 6) & (month == 6) & (year >= 2005))\n",
    "        # Midsummer Eve (Friday between June 19-25)\n",
    "        | ((weekday == 4 ) & (day_of_month >= 19 & day_of_month <= 25) & (month == 6))\n",
    "        # Christmas Eve\n",
    "        | ((day_of_month == 24) & month == 12)\n",
    "        # Christmas Day\n",
    "        | ((day_of_month == 25) & (month ==12))\n",
    "        # Boxing Day\n",
    "        | ((day_of_month == 26) & (month ==12))\n",
    "        # New Year's Eve\n",
    "        | ((day_of_month == 31) & (month == 12))\n",
    "        ):\n",
    "        return False\n",
    "    else:\n",
    "        return True\n",
    "\n",
    "assert is_business_day(date(2023,1,6)) == False\n",
    "\n",
    "assert is_business_day(date(2023,4,2)) == False \n",
    "assert is_business_day(date(2023,4,1)) == False \n",
    "assert is_business_day(date(2023,4,3)) == True \n",
    "assert is_business_day(date(2023,4,7)) == False   # Good Friday\n",
    "assert is_business_day(date(2023,4,10)) == False  # Easter Monday\n",
    "assert is_business_day(date(2023,5,18)) == False  # Ascension Thursday\n",
    "assert is_business_day(date(2023,5,18)) == False  # Whit Monday\n",
    "assert is_business_day(date(2023,1,1)) == False   # New Year's Day\n",
    "assert is_business_day(date(2023,1,6)) == False   # Epiphany\n",
    "assert is_business_day(date(2023,6,6)) == False   # National Day\n",
    "assert is_business_day(date(2023,6,24)) == False  # Midsummer Eve\n",
    "assert is_business_day(date(2023,12,24)) == False # Christmas Eve\n",
    "assert is_business_day(date(2023,12,25)) == False # Christmas Day\n",
    "assert is_business_day(date(2023,12,26)) == False  # Boxing Day\n",
    "assert is_business_day(date(2023,12,31)) == False  # New Year's Eve\n"
   ]
  },
  {
   "cell_type": "code",
   "execution_count": 111,
   "metadata": {},
   "outputs": [
    {
     "name": "stdout",
     "output_type": "stream",
     "text": [
      "6\n",
      "1\n"
     ]
    },
    {
     "ename": "AssertionError",
     "evalue": "",
     "output_type": "error",
     "traceback": [
      "\u001b[1;31m---------------------------------------------------------------------------\u001b[0m",
      "\u001b[1;31mAssertionError\u001b[0m                            Traceback (most recent call last)",
      "\u001b[1;32m~\\AppData\\Local\\Temp\\ipykernel_25044\\469642636.py\u001b[0m in \u001b[0;36m<cell line: 15>\u001b[1;34m()\u001b[0m\n\u001b[0;32m     13\u001b[0m     \u001b[1;32melse\u001b[0m\u001b[1;33m:\u001b[0m\u001b[1;33m\u001b[0m\u001b[1;33m\u001b[0m\u001b[0m\n\u001b[0;32m     14\u001b[0m         \u001b[1;32mreturn\u001b[0m \u001b[1;32mTrue\u001b[0m\u001b[1;33m\u001b[0m\u001b[1;33m\u001b[0m\u001b[0m\n\u001b[1;32m---> 15\u001b[1;33m \u001b[1;32massert\u001b[0m \u001b[0mis_business_day_temp\u001b[0m\u001b[1;33m(\u001b[0m\u001b[0mdate\u001b[0m\u001b[1;33m(\u001b[0m\u001b[1;36m2023\u001b[0m\u001b[1;33m,\u001b[0m\u001b[1;36m1\u001b[0m\u001b[1;33m,\u001b[0m\u001b[1;36m6\u001b[0m\u001b[1;33m)\u001b[0m\u001b[1;33m)\u001b[0m \u001b[1;33m==\u001b[0m \u001b[1;32mFalse\u001b[0m\u001b[1;33m\u001b[0m\u001b[1;33m\u001b[0m\u001b[0m\n\u001b[0m",
      "\u001b[1;31mAssertionError\u001b[0m: "
     ]
    }
   ],
   "source": [
    "def is_business_day_temp(arg_date : date) -> bool:\n",
    "    weekday = arg_date.weekday()\n",
    "    day_of_month = arg_date.day \n",
    "    day_of_year = (arg_date- date(arg_date.year, 1, 1)).days + 1\n",
    "    month = arg_date.month\n",
    "    year = arg_date.year\n",
    "    easter_monday = calc_day_of_year(dateutil.easter.easter(year,3) + datetime.timedelta(1))\n",
    "    print(day_of_month)\n",
    "    print(month)\n",
    "    if ( (day_of_month == 6 & month == 1)\n",
    "        ):\n",
    "        return False\n",
    "    else:\n",
    "        return True\n",
    "assert is_business_day_temp(date(2023,1,6)) == False"
   ]
  },
  {
   "cell_type": "code",
   "execution_count": 121,
   "metadata": {},
   "outputs": [
    {
     "data": {
      "text/plain": [
       "True"
      ]
     },
     "execution_count": 121,
     "metadata": {},
     "output_type": "execute_result"
    }
   ],
   "source": [
    "(date(2023,1,6).day == 6) & (date(2023,1,6).month == 1)"
   ]
  },
  {
   "cell_type": "code",
   "execution_count": 115,
   "metadata": {},
   "outputs": [
    {
     "data": {
      "text/plain": [
       "True"
      ]
     },
     "execution_count": 115,
     "metadata": {},
     "output_type": "execute_result"
    }
   ],
   "source": [
    "date(2023,1,6).month == 1"
   ]
  }
 ],
 "metadata": {
  "kernelspec": {
   "display_name": "python_pg",
   "language": "python",
   "name": "python3"
  },
  "language_info": {
   "codemirror_mode": {
    "name": "ipython",
    "version": 3
   },
   "file_extension": ".py",
   "mimetype": "text/x-python",
   "name": "python",
   "nbconvert_exporter": "python",
   "pygments_lexer": "ipython3",
   "version": "3.10.4"
  },
  "orig_nbformat": 4
 },
 "nbformat": 4,
 "nbformat_minor": 2
}
