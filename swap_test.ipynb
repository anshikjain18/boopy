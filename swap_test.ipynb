{
 "cells": [
  {
   "cell_type": "code",
   "execution_count": 3,
   "metadata": {},
   "outputs": [],
   "source": [
    "import bootstrapy as bs\n",
    "from bootstrapy.helpers.swap_helper import SwapHelper \n",
    "import bootstrapy.time.date.reference_date as reference_date_holder\n",
    "reference_date_holder.reference_date = \"2022-12-30\"\n",
    "ibor_index = bs.IborIndex(2, \"3M\", \"Following\", bs.ACT360)\n",
    "#swap = bs.SwapHelper(0.023, \"1Y\",\"ModifiedFollowing\", bs.Annual, bs.ACT360, ibor_index)\n"
   ]
  },
  {
   "cell_type": "code",
   "execution_count": 4,
   "metadata": {},
   "outputs": [
    {
     "name": "stdout",
     "output_type": "stream",
     "text": [
      "temp = datetime.date(2023, 6, 30)\n",
      "temp = datetime.date(2023, 1, 2)\n",
      "temp = datetime.date(2022, 6, 30)\n"
     ]
    }
   ],
   "source": [
    "from bootstrapy.time.schedule import Schedule\n",
    "import datetime\n",
    "\n",
    "start_date = datetime.date(2023,1,1)\n",
    "end_date = datetime.date(2023,12,31)\n",
    "tenor = \"6M\"\n",
    "schedule = Schedule(start_date,end_date, tenor, \n",
    "\"tempcalendar\", 'Following','Following', 'backward', 'False')"
   ]
  },
  {
   "cell_type": "code",
   "execution_count": 5,
   "metadata": {},
   "outputs": [
    {
     "data": {
      "text/plain": [
       "[datetime.date(2023, 1, 2),\n",
       " datetime.date(2023, 7, 3),\n",
       " datetime.date(2023, 12, 31)]"
      ]
     },
     "execution_count": 5,
     "metadata": {},
     "output_type": "execute_result"
    }
   ],
   "source": [
    "schedule.dates"
   ]
  },
  {
   "cell_type": "code",
   "execution_count": 40,
   "metadata": {},
   "outputs": [
    {
     "data": {
      "text/plain": [
       "[datetime.date(2023, 1, 2),\n",
       " datetime.date(2023, 6, 30),\n",
       " datetime.date(2024, 1, 2)]"
      ]
     },
     "execution_count": 40,
     "metadata": {},
     "output_type": "execute_result"
    }
   ],
   "source": [
    "from QuantLib import *\n",
    "from datetime import date\n",
    "\n",
    "# Define the inputs\n",
    "start_date = date(2023, 1, 1)\n",
    "end_date = date(2023, 12, 31)\n",
    "tenor = Period(6, Months)\n",
    "calendar = Sweden()  # Assuming the target calendar for business days\n",
    "\n",
    "# Convert start date and end date to ql.Date objects\n",
    "ql_start_date = Date(start_date.day, start_date.month, start_date.year)\n",
    "ql_end_date = Date(end_date.day, end_date.month, end_date.year)\n",
    "\n",
    "# Create the schedule\n",
    "schedule = Schedule(ql_start_date, ql_end_date, tenor, calendar, Following, Following,\n",
    "                    DateGeneration.Backward, False)\n",
    "\n",
    "\n",
    "# Get the generated dates as ql.Date objects\n",
    "ql_dates = [dt for dt in schedule]\n",
    "\n",
    "def ql_to_datetime(d):\n",
    "    return datetime.datetime(d.year(), d.month(), d.dayOfMonth()).date()\n",
    "list(map(ql_to_datetime, ql_dates))"
   ]
  },
  {
   "cell_type": "code",
   "execution_count": 46,
   "metadata": {},
   "outputs": [],
   "source": [
    "import datetime\n",
    "from dateutil import easter # Only needed for Easter Monday\n",
    "from bootstrapy.time.calendars.utils import is_weekend, calc_day_of_year\n",
    "\n",
    "def sweden_is_business_day(arg_date : datetime.date) -> bool:\n",
    "    weekday = arg_date.weekday()\n",
    "    day_of_month = arg_date.day \n",
    "    day_of_year = (arg_date- datetime.date(arg_date.year, 1, 1)).days + 1\n",
    "    month = arg_date.month\n",
    "    year = arg_date.year\n",
    "    easter_monday = calc_day_of_year(easter.easter(year,3) + datetime.timedelta(1))\n",
    "    if (is_weekend(arg_date)\n",
    "        # Good Friday\n",
    "        | (day_of_year == easter_monday -3)\n",
    "        # Easter Monday\n",
    "        | (day_of_year == easter_monday) \n",
    "        # Ascension Thursday\n",
    "        | (day_of_year == easter_monday+38)\n",
    "        # Whit Monday (till 2004)\n",
    "        | ((day_of_year == easter_monday + 49) & (year < 2005))\n",
    "        # New Year's Day\n",
    "        | ((day_of_month == 1) & (month == 1))\n",
    "        # Epiphany\n",
    "        | ((day_of_month == 6) & (month == 1))\n",
    "        # May Day\n",
    "        | ((day_of_month == 1) & (month == 5))\n",
    "        # National Day\n",
    "        # Only a holiday since 2005\n",
    "        | ((day_of_month == 6) & (month == 6) & (year >= 2005))\n",
    "        # Midsummer Eve (Friday between June 19-25)\n",
    "        | ((weekday == 4 ) & (day_of_month >= 19 & day_of_month <= 25) & (month == 6))\n",
    "        # Christmas Eve\n",
    "        | ((day_of_month == 24) & month == 12)\n",
    "        # Christmas Day\n",
    "        | ((day_of_month == 25) & (month ==12))\n",
    "        # Boxing Day\n",
    "        | ((day_of_month == 26) & (month ==12))\n",
    "        # New Year's Eve\n",
    "        | ((day_of_month == 31) & (month == 12))\n",
    "        ):\n",
    "        return False\n",
    "    else:\n",
    "        return True"
   ]
  },
  {
   "cell_type": "code",
   "execution_count": 47,
   "metadata": {},
   "outputs": [
    {
     "data": {
      "text/plain": [
       "False"
      ]
     },
     "execution_count": 47,
     "metadata": {},
     "output_type": "execute_result"
    }
   ],
   "source": [
    "sweden_is_business_day(datetime.date(2023,6,30))"
   ]
  },
  {
   "cell_type": "code",
   "execution_count": 50,
   "metadata": {},
   "outputs": [
    {
     "data": {
      "text/plain": [
       "False"
      ]
     },
     "execution_count": 50,
     "metadata": {},
     "output_type": "execute_result"
    }
   ],
   "source": [
    "arg_date = datetime.date(2023,6,30)\n",
    "weekday = arg_date.weekday()\n",
    "day_of_month = arg_date.day \n",
    "day_of_year = (arg_date- datetime.date(arg_date.year, 1, 1)).days + 1\n",
    "month = arg_date.month\n",
    "year = arg_date.year\n",
    "easter_monday = calc_day_of_year(easter.easter(year,3) + datetime.timedelta(1))\n",
    "is_weekend(arg_date)\n",
    "   "
   ]
  },
  {
   "cell_type": "code",
   "execution_count": 52,
   "metadata": {},
   "outputs": [
    {
     "data": {
      "text/plain": [
       "False"
      ]
     },
     "execution_count": 52,
     "metadata": {},
     "output_type": "execute_result"
    }
   ],
   "source": [
    "day_of_year == easter_monday -3\n",
    " \n"
   ]
  },
  {
   "cell_type": "code",
   "execution_count": 53,
   "metadata": {},
   "outputs": [
    {
     "data": {
      "text/plain": [
       "False"
      ]
     },
     "execution_count": 53,
     "metadata": {},
     "output_type": "execute_result"
    }
   ],
   "source": [
    "(day_of_year == easter_monday) \n"
   ]
  },
  {
   "cell_type": "code",
   "execution_count": 54,
   "metadata": {},
   "outputs": [
    {
     "data": {
      "text/plain": [
       "False"
      ]
     },
     "execution_count": 54,
     "metadata": {},
     "output_type": "execute_result"
    }
   ],
   "source": [
    "\n",
    "day_of_year == easter_monday+38\n"
   ]
  },
  {
   "cell_type": "code",
   "execution_count": 55,
   "metadata": {},
   "outputs": [
    {
     "data": {
      "text/plain": [
       "False"
      ]
     },
     "execution_count": 55,
     "metadata": {},
     "output_type": "execute_result"
    }
   ],
   "source": [
    "\n",
    "(day_of_year == easter_monday + 49) & (year < 2005)\n"
   ]
  },
  {
   "cell_type": "code",
   "execution_count": 56,
   "metadata": {},
   "outputs": [
    {
     "data": {
      "text/plain": [
       "False"
      ]
     },
     "execution_count": 56,
     "metadata": {},
     "output_type": "execute_result"
    }
   ],
   "source": [
    "\n",
    "(day_of_month == 1) & (month == 1)\n"
   ]
  },
  {
   "cell_type": "code",
   "execution_count": 57,
   "metadata": {},
   "outputs": [
    {
     "data": {
      "text/plain": [
       "False"
      ]
     },
     "execution_count": 57,
     "metadata": {},
     "output_type": "execute_result"
    }
   ],
   "source": [
    "\n",
    "(day_of_month == 6) & (month == 1)\n"
   ]
  },
  {
   "cell_type": "code",
   "execution_count": 58,
   "metadata": {},
   "outputs": [
    {
     "data": {
      "text/plain": [
       "False"
      ]
     },
     "execution_count": 58,
     "metadata": {},
     "output_type": "execute_result"
    }
   ],
   "source": [
    "\n",
    "(day_of_month == 1) & (month == 5)\n"
   ]
  },
  {
   "cell_type": "code",
   "execution_count": 59,
   "metadata": {},
   "outputs": [
    {
     "data": {
      "text/plain": [
       "False"
      ]
     },
     "execution_count": 59,
     "metadata": {},
     "output_type": "execute_result"
    }
   ],
   "source": [
    "\n",
    "(day_of_month == 6) & (month == 6) & (year >= 2005)\n"
   ]
  },
  {
   "cell_type": "code",
   "execution_count": 64,
   "metadata": {},
   "outputs": [
    {
     "name": "stdout",
     "output_type": "stream",
     "text": [
      "4\n",
      "30\n",
      "6\n"
     ]
    }
   ],
   "source": [
    "print(weekday)\n",
    "print(day_of_month)\n",
    "print(month)"
   ]
  },
  {
   "cell_type": "code",
   "execution_count": 65,
   "metadata": {},
   "outputs": [
    {
     "name": "stdout",
     "output_type": "stream",
     "text": [
      "False\n"
     ]
    }
   ],
   "source": [
    "\n",
    "print((weekday == 4 ) & (day_of_month >= 19) & (day_of_month <= 25) & (month == 6))\n"
   ]
  },
  {
   "cell_type": "code",
   "execution_count": null,
   "metadata": {},
   "outputs": [],
   "source": [
    "\n",
    "print((day_of_month == 24) & month == 12)\n",
    "print((day_of_month == 25) & (month ==12))\n",
    "print((day_of_month == 26) & (month ==12))\n",
    "print((day_of_month == 31) & (month == 12))"
   ]
  }
 ],
 "metadata": {
  "kernelspec": {
   "display_name": "python_pg",
   "language": "python",
   "name": "python3"
  },
  "language_info": {
   "codemirror_mode": {
    "name": "ipython",
    "version": 3
   },
   "file_extension": ".py",
   "mimetype": "text/x-python",
   "name": "python",
   "nbconvert_exporter": "python",
   "pygments_lexer": "ipython3",
   "version": "3.11.3"
  },
  "orig_nbformat": 4
 },
 "nbformat": 4,
 "nbformat_minor": 2
}
