{
 "cells": [
  {
   "cell_type": "code",
   "execution_count": 3,
   "metadata": {},
   "outputs": [],
   "source": [
    "import pandas as pd\n",
    "import numpy as np\n",
    "import matplotlib.pyplot as plt\n",
    "plt.rcParams['figure.dpi'] = 400 \n",
    "plt.rcParams[\"axes.grid\"] = True\n",
    "import yfinance as yf"
   ]
  },
  {
   "cell_type": "code",
   "execution_count": 4,
   "metadata": {},
   "outputs": [
    {
     "data": {
      "text/plain": [
       "'2023-06-20'"
      ]
     },
     "execution_count": 4,
     "metadata": {},
     "output_type": "execute_result"
    }
   ],
   "source": [
    "import datetime\n",
    "\n",
    "temp = datetime.datetime.strptime(\"2023-06-20\", \"%Y-%m-%d\").date()\n",
    "temp.strftime(\"%Y-%m-%d\")"
   ]
  },
  {
   "cell_type": "code",
   "execution_count": 14,
   "metadata": {},
   "outputs": [],
   "source": [
    "import bootstrapy as bs\n",
    "from bootstrapy.helpers.swap_helper import SwapHelper \n",
    "import bootstrapy.time.date.reference_date as reference_date_holder\n",
    "reference_date_holder.reference_date = \"2022-12-30\"\n",
    "ibor_index = bs.IborIndex(2, \"3M\", \"Following\", bs.ACT360)\n",
    "#swap = bs.SwapHelper(0.023, \"1Y\",\"ModifiedFollowing\", bs.Annual, bs.ACT360, ibor_index)\n"
   ]
  },
  {
   "cell_type": "code",
   "execution_count": 29,
   "metadata": {},
   "outputs": [
    {
     "data": {
      "text/plain": [
       "datetime.date(2023, 4, 11)"
      ]
     },
     "execution_count": 29,
     "metadata": {},
     "output_type": "execute_result"
    }
   ],
   "source": [
    "from bootstrapy.time.calendars.calendar import adjust\n",
    "import datetime\n",
    "adjust(datetime.date(2023,4,10), 'ModifiedFollowing')\n"
   ]
  },
  {
   "cell_type": "code",
   "execution_count": 15,
   "metadata": {},
   "outputs": [
    {
     "data": {
      "text/plain": [
       "'3M'"
      ]
     },
     "execution_count": 15,
     "metadata": {},
     "output_type": "execute_result"
    }
   ],
   "source": [
    "ibor_index.period"
   ]
  },
  {
   "cell_type": "code",
   "execution_count": 2,
   "metadata": {},
   "outputs": [
    {
     "name": "stdout",
     "output_type": "stream",
     "text": [
      "no\n"
     ]
    }
   ],
   "source": [
    "test = 'no'\n",
    "match test:\n",
    "    case 'hi':\n",
    "        print('hi')\n",
    "    case 'no':\n",
    "        print('no')"
   ]
  },
  {
   "cell_type": "code",
   "execution_count": 1,
   "metadata": {},
   "outputs": [
    {
     "name": "stdout",
     "output_type": "stream",
     "text": [
      "January 2nd, 2023\n",
      "March 31st, 2023\n",
      "June 30th, 2023\n",
      "October 2nd, 2023\n",
      "January 2nd, 2024\n"
     ]
    }
   ],
   "source": [
    "from QuantLib import *\n",
    "from datetime import date\n",
    "\n",
    "# Define the inputs\n",
    "start_date = date(2023, 1, 1)\n",
    "end_date = date(2023, 12, 31)\n",
    "tenor = Period(3, Months)\n",
    "calendar = TARGET()  # Assuming the target calendar for business days\n",
    "\n",
    "# Convert start date and end date to ql.Date objects\n",
    "ql_start_date = Date(start_date.day, start_date.month, start_date.year)\n",
    "ql_end_date = Date(end_date.day, end_date.month, end_date.year)\n",
    "\n",
    "# Create the schedule\n",
    "schedule = Schedule(ql_start_date, ql_end_date, tenor, calendar, Following, Following,\n",
    "                    DateGeneration.Backward, False)\n",
    "\n",
    "# Get the generated dates as ql.Date objects\n",
    "ql_dates = [dt for dt in schedule]\n",
    "\n",
    "# Print the generated ql.Date objects\n",
    "for dt in ql_dates:\n",
    "    print(dt)"
   ]
  }
 ],
 "metadata": {
  "kernelspec": {
   "display_name": "python_pg",
   "language": "python",
   "name": "python3"
  },
  "language_info": {
   "codemirror_mode": {
    "name": "ipython",
    "version": 3
   },
   "file_extension": ".py",
   "mimetype": "text/x-python",
   "name": "python",
   "nbconvert_exporter": "python",
   "pygments_lexer": "ipython3",
   "version": "3.10.4"
  },
  "orig_nbformat": 4
 },
 "nbformat": 4,
 "nbformat_minor": 2
}
