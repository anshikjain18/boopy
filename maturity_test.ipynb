{
 "cells": [
  {
   "cell_type": "code",
   "execution_count": 1,
   "metadata": {},
   "outputs": [],
   "source": [
    "import pandas as pd\n",
    "import numpy as np\n",
    "import matplotlib.pyplot as plt\n",
    "plt.rcParams['figure.dpi'] = 400 \n",
    "plt.rcParams[\"axes.grid\"] = True\n",
    "import yfinance as yf"
   ]
  },
  {
   "cell_type": "code",
   "execution_count": 209,
   "metadata": {},
   "outputs": [],
   "source": [
    "from bootstrapy.time.calendars.sweden import sweden_is_business_day\n",
    "import datetime\n",
    "from dateutil.relativedelta import relativedelta\n",
    "def initialize_maturity_date(reference_date: datetime.date, timeunit : str, length : int) -> datetime.date:\n",
    "    \"\"\"\n",
    "    Calculates the maturity date without considering if the maturity date is a business date or not.    \n",
    "    \n",
    "    Parameters\n",
    "    ----------\n",
    "    reference_date : datetime.date\n",
    "        Corresponds to the date of which the bootstrap begins.\n",
    "\n",
    "    timeunit : str\n",
    "        Is the timeunit of the input, such as day, month or year.\n",
    "    \n",
    "    length : int\n",
    "        Is the length of the timeunit, such as 10, if the input was 10D.\n",
    "    \"\"\"\n",
    "    \n",
    "    try:\n",
    "        if (timeunit == 'd') | (timeunit == 'D'):\n",
    "            return reference_date + datetime.timedelta(days = length)\n",
    "        elif (timeunit == 'm') | (timeunit == 'M'):\n",
    "            return reference_date + relativedelta(months= length)\n",
    "        elif (timeunit == 'y') | (timeunit == 'Y'):\n",
    "            return reference_date + relativedelta(months= length)\n",
    "        else:\n",
    "            raise TypeError(\"Timeunit or length is wrongly set.\")\n",
    "    except:\n",
    "        raise TypeError(\"Timeunit or length is wrongly set.\")\n",
    "\n",
    "def maturity_datetime(init_maturity_date : datetime.date,\n",
    "          settlement_days : int) -> datetime.date:\n",
    "\n",
    "    \"\"\"\n",
    "    Given init_maturity date which is the maturity date not considering if it is a business date or not,\n",
    "    maturity_date will find the correct \n",
    "    \"\"\"\n",
    "\n",
    "    # Interest rate is not accrued the day of the purchased\n",
    "    maturity_date_iter= init_maturity_date + datetime.timedelta(days=1)\n",
    "    boolean = True\n",
    "    settlement_day_iter = 0\n",
    "    while boolean == True:\n",
    "        if sweden_is_business_day(maturity_date_iter) == True:\n",
    "            settlement_day_iter += 1\n",
    "            if settlement_day_iter == settlement_days:\n",
    "                return maturity_date_iter \n",
    "            \n",
    "        maturity_date_iter= maturity_date_iter+ datetime.timedelta(days = 1)\n",
    "\n",
    "def maturity_int(reference_date: datetime.date, maturity_date: datetime.date) -> int:\n",
    "    return (maturity_date- reference_date).days\n"
   ]
  },
  {
   "cell_type": "code",
   "execution_count": 210,
   "metadata": {},
   "outputs": [
    {
     "name": "stdout",
     "output_type": "stream",
     "text": [
      "timeunit = 'M'\n",
      "length = 3\n"
     ]
    }
   ],
   "source": [
    "import datetime\n",
    "from dateutil.relativedelta import relativedelta\n",
    "reference_date = datetime.date(2023,4,21)\n",
    "arg = \"3M\"\n",
    "timeunit = arg[-1]\n",
    "print(f'{timeunit = }')\n",
    "length = int(arg[:len(arg)-1])\n",
    "print(f'{length = }')"
   ]
  },
  {
   "cell_type": "code",
   "execution_count": 212,
   "metadata": {},
   "outputs": [
    {
     "name": "stdout",
     "output_type": "stream",
     "text": [
      "init_maturity_date = datetime.date(2023, 7, 21)\n",
      " temps = datetime.date(2023, 7, 25)\n",
      "95\n",
      "days_to_maturity= 95\n"
     ]
    }
   ],
   "source": [
    "init_maturity_date = initialize_maturity_date(reference_date, timeunit, length)\n",
    "print(f'{init_maturity_date = }')\n",
    "maturity_date= maturity_datetime(init_maturity_date, 2)\n",
    "print(f'{ maturity_date= }')\n",
    "print(maturity_int(reference_date, temps))\n",
    "days_to_maturity= maturity_int(reference_date, temps)\n",
    "print(f'{days_to_maturity= }')\n"
   ]
  },
  {
   "cell_type": "code",
   "execution_count": 199,
   "metadata": {},
   "outputs": [
    {
     "name": "stdout",
     "output_type": "stream",
     "text": [
      "init_maturity_date = datetime.date(2023, 7, 21)\n",
      "2023-04-08\n",
      "0\n",
      "2023-04-09\n",
      "0\n",
      "2023-04-10\n",
      "0\n",
      "2023-04-11\n",
      "0\n",
      "2023-04-12\n",
      "1\n"
     ]
    },
    {
     "data": {
      "text/plain": [
       "datetime.date(2023, 4, 12)"
      ]
     },
     "execution_count": 199,
     "metadata": {},
     "output_type": "execute_result"
    }
   ],
   "source": [
    "def temp(init_maturity_date, settlement_days):\n",
    "    temp_maturity_date = init_maturity_date + datetime.timedelta(days=1)\n",
    "    boolean = True\n",
    "    settlement_day_iter = 0\n",
    "    while boolean == True:\n",
    "        print(temp_maturity_date)\n",
    "        print(settlement_day_iter)\n",
    "        if sweden_is_business_day(temp_maturity_date) == True:\n",
    "            settlement_day_iter += 1\n",
    "            if settlement_day_iter == settlement_days:\n",
    "                return temp_maturity_date\n",
    "            \n",
    "        temp_maturity_date = temp_maturity_date + datetime.timedelta(days = 1)\n",
    "print(f'{init_maturity_date = }')\n",
    "temp(datetime.date(2023,4,7), 2)"
   ]
  },
  {
   "cell_type": "code",
   "execution_count": 56,
   "metadata": {},
   "outputs": [
    {
     "data": {
      "text/plain": [
       "92"
      ]
     },
     "execution_count": 56,
     "metadata": {},
     "output_type": "execute_result"
    }
   ],
   "source": [
    "(maturity_date- reference_date).days"
   ]
  }
 ],
 "metadata": {
  "kernelspec": {
   "display_name": "python_pg",
   "language": "python",
   "name": "python3"
  },
  "language_info": {
   "codemirror_mode": {
    "name": "ipython",
    "version": 3
   },
   "file_extension": ".py",
   "mimetype": "text/x-python",
   "name": "python",
   "nbconvert_exporter": "python",
   "pygments_lexer": "ipython3",
   "version": "3.10.4"
  },
  "orig_nbformat": 4
 },
 "nbformat": 4,
 "nbformat_minor": 2
}
