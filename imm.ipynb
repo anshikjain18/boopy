{
 "cells": [
  {
   "cell_type": "code",
   "execution_count": 28,
   "metadata": {},
   "outputs": [],
   "source": [
    "import pandas as pd\n",
    "import numpy as np\n",
    "import matplotlib.pyplot as plt\n",
    "\n",
    "plt.rcParams[\"figure.dpi\"] = 400\n",
    "plt.rcParams[\"axes.grid\"] = True\n",
    "import yfinance as yf\n",
    "import datetime"
   ]
  },
  {
   "cell_type": "code",
   "execution_count": 23,
   "metadata": {},
   "outputs": [
    {
     "data": {
      "text/plain": [
       "[datetime.datetime(2018, 1, 17, 0, 0),\n",
       " datetime.datetime(2018, 2, 21, 0, 0),\n",
       " datetime.datetime(2018, 3, 21, 0, 0),\n",
       " datetime.datetime(2018, 4, 18, 0, 0),\n",
       " datetime.datetime(2018, 5, 16, 0, 0),\n",
       " datetime.datetime(2018, 6, 20, 0, 0),\n",
       " datetime.datetime(2018, 7, 18, 0, 0),\n",
       " datetime.datetime(2018, 8, 15, 0, 0),\n",
       " datetime.datetime(2018, 9, 19, 0, 0),\n",
       " datetime.datetime(2018, 10, 17, 0, 0)]"
      ]
     },
     "execution_count": 23,
     "metadata": {},
     "output_type": "execute_result"
    }
   ],
   "source": [
    "from dateutil.rrule import *\n",
    "from dateutil.parser import *\n",
    "from datetime import *\n",
    "\n",
    "list(\n",
    "    rrule(\n",
    "        MONTHLY,\n",
    "        count=10,\n",
    "        byweekday=WE(3),\n",
    "        dtstart=parse(\"20180101\"),\n",
    "    )\n",
    ")"
   ]
  },
  {
   "cell_type": "code",
   "execution_count": 31,
   "metadata": {},
   "outputs": [
    {
     "data": {
      "text/plain": [
       "2"
      ]
     },
     "execution_count": 31,
     "metadata": {},
     "output_type": "execute_result"
    }
   ],
   "source": [
    "datetime.date(2023,3,2).day"
   ]
  },
  {
   "cell_type": "code",
   "execution_count": 64,
   "metadata": {},
   "outputs": [
    {
     "data": {
      "text/plain": [
       "[datetime.datetime(2023, 6, 21, 0, 0)]"
      ]
     },
     "execution_count": 64,
     "metadata": {},
     "output_type": "execute_result"
    }
   ],
   "source": [
    "list(\n",
    "    rrule(\n",
    "        MONTHLY,\n",
    "        count=1,\n",
    "        byweekday=WE(3),\n",
    "        dtstart=parse(\"20230621\"),\n",
    "    )\n",
    ")"
   ]
  },
  {
   "cell_type": "code",
   "execution_count": 66,
   "metadata": {},
   "outputs": [],
   "source": [
    "def next_IMM_date(date: datetime.date) -> datetime.date:\n",
    "    return list(rrule(MONTHLY, count=1, byweekday=WE(3), dtstart=date + datetime.timedelta(days = 1)))[0].date()\n",
    "\n",
    "\n",
    "def nth_IMM_date(date: datetime.date, offset: int) -> datetime.date:\n",
    "    imm = date\n",
    "    for i in range(offset):\n",
    "        imm = next_IMM_date(imm)\n",
    "    return imm"
   ]
  },
  {
   "cell_type": "code",
   "execution_count": 71,
   "metadata": {},
   "outputs": [
    {
     "data": {
      "text/plain": [
       "datetime.date(2023, 9, 20)"
      ]
     },
     "execution_count": 71,
     "metadata": {},
     "output_type": "execute_result"
    }
   ],
   "source": [
    "nth_IMM_date(datetime.date(2023,6,14),4)"
   ]
  },
  {
   "cell_type": "code",
   "execution_count": null,
   "metadata": {},
   "outputs": [],
   "source": [
    "next_IMM_date"
   ]
  }
 ],
 "metadata": {
  "kernelspec": {
   "display_name": "python_pg",
   "language": "python",
   "name": "python3"
  },
  "language_info": {
   "codemirror_mode": {
    "name": "ipython",
    "version": 3
   },
   "file_extension": ".py",
   "mimetype": "text/x-python",
   "name": "python",
   "nbconvert_exporter": "python",
   "pygments_lexer": "ipython3",
   "version": "3.10.4"
  },
  "orig_nbformat": 4
 },
 "nbformat": 4,
 "nbformat_minor": 2
}
